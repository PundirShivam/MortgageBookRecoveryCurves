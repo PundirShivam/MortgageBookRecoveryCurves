{
 "cells": [
  {
   "cell_type": "code",
   "execution_count": null,
   "id": "ed0e6eed",
   "metadata": {},
   "outputs": [],
   "source": [
    "import pandas as pd\n",
    "import numpy as np\n",
    "import matplotlib.pyplot as plt\n",
    "import os\n",
    "import pyodbc\n"
   ]
  },
  {
   "cell_type": "code",
   "execution_count": null,
   "id": "65f1a4df",
   "metadata": {},
   "outputs": [],
   "source": [
    "input_folder = r'..\\Historical Data\\Files\\dynamic'\n",
    "output_folder = r'\\Historical Data\\Files\\dynamic-processed'\n",
    "files = os.listdir(input_folder)"
   ]
  },
  {
   "cell_type": "code",
   "execution_count": null,
   "id": "59d7b0a2",
   "metadata": {},
   "outputs": [],
   "source": [
    "headers = ['DATE'\n",
    ",'LOANID'\n",
    ",'LOANID_OLD'\n",
    ",'INTRATETYPE'\n",
    ",'TOTALRATE'\n",
    ",'BASERATE'\n",
    ",'INTRATEDES'\n",
    ",'INTRATEPROD'\n",
    ",'OPTIONEXER'\n",
    ",'BALANCE'\n",
    ",'DRAWDOWN'\n",
    ",'TECHNICALBALANCE'\n",
    ",'ARREARS'\n",
    ",'DPD'\n",
    ",'PRINCIPAL_DUE'\n",
    ",'INTEREST_DUE'\n",
    ",'PRINCIPAL_RECEIVED'\n",
    ",'INTEREST_RECEIVED'\n",
    ",'ONEOFFPAYMENT'\n",
    ",'ONEOFFPAYMENT_TYPE'\n",
    ",'OTHERDUE'\n",
    ",'OTHERDUE_RECEIVED'\n",
    ",'WRITEOFF'\n",
    ",'NPL_FLAG'\n",
    ",'CLOSURE_TYPE'\n",
    ",'UNSECURED_FLAG'\n",
    ",'SOLD_FLAG'\n",
    ",'LOANSTATUS'\n",
    ",'LOANCLOSEDATE']\n",
    "\n",
    "numeric_cols = ['TOTALRATE'\n",
    " ,'BASERATE'\n",
    " ,'BALANCE'\n",
    " ,'DRAWDOWN'\n",
    " ,'TECHNICALBALANCE'\n",
    " ,'ARREARS'\n",
    " ,'DPD'\n",
    " ,'PRINCIPAL_DUE'\n",
    " ,'INTEREST_DUE'\n",
    " ,'PRINCIPAL_RECEIVED'\n",
    " ,'INTEREST_RECEIVED'\n",
    " ,'ONEOFFPAYMENT'\n",
    " ,'WRITEOFF'\n",
    " ,'OTHERDUE'\n",
    " ,'OTHERDUE_RECEIVED'\n",
    " ,'ONEOFFPAYMENT_TYPE'\n",
    "]\n",
    "\n",
    "cols_strs = [col for col in headers if 'DATE' not in col]"
   ]
  },
  {
   "cell_type": "code",
   "execution_count": null,
   "id": "7c969173",
   "metadata": {},
   "outputs": [],
   "source": [
    "def splitline(line,sep=';'):\n",
    "    return line.split(';')\n",
    "def handle_date(series):\n",
    "    return pd.to_datetime(series.astype(float).replace(0,np.nan).astype(str),format='%Y%m%d')\n",
    "def handle_str(series):\n",
    "    return series.str.strip()\n",
    "def handle_numeric(series):\n",
    "#    return series.str.replace(\"+\",'').str.replace(\"-\",'').str.replace(\",\",'.').astype(float)\n",
    "    return series.str.replace(\",\",'.').astype(float)\n"
   ]
  },
  {
   "cell_type": "code",
   "execution_count": null,
   "id": "3d95c516",
   "metadata": {},
   "outputs": [],
   "source": [
    "def make_sanitised_tape(lines,headers):\n",
    "\n",
    "    tape = pd.DataFrame(lines,columns=headers)\n",
    "    \n",
    "    tape['DATE'] = handle_date(tape['DATE'])\n",
    "    tape['LOANCLOSEDATE'] = handle_date(tape['LOANCLOSEDATE'])\n",
    "    for col in cols_strs:\n",
    "        tape[col] = handle_str(tape[col])\n",
    "        \n",
    "    for col in numeric_cols:\n",
    "        tape[col] = handle_numeric(tape[col])\n",
    "\n",
    "    additional_data = tape['LOANID'].str.split('-',expand=True).filter([1,2,3,4])\n",
    "    \n",
    "    additional_data.columns = ['PRODUCTID','BRANCHID','BASELOANID','SUBACCOUNT']\n",
    "    \n",
    "    additional_data = additional_data.astype(float)\n",
    "        \n",
    "    tape = pd.concat([tape,additional_data],axis=1)\n",
    "    \n",
    "    return tape\n",
    "    "
   ]
  },
  {
   "cell_type": "code",
   "execution_count": null,
   "id": "82dc3b39",
   "metadata": {},
   "outputs": [],
   "source": [
    "lines_count = 0\n",
    "for file_name in files[:]:\n",
    "    lines = []\n",
    "    print(f'Started Working on file :{file_name}')\n",
    "    with open(os.path.join(input_folder,file_name),'r') as doc:\n",
    "        for index,line in enumerate(doc):\n",
    "            if index==0:\n",
    "                continue\n",
    "            split_line= splitline(line)[:29]\n",
    "            lines.append(split_line)\n",
    "    lines_count = lines_count + len(lines)\n",
    "    print(f'# Lines Completed, {lines_count}')\n",
    "    print(f'Reading Completed , Processing Started')\n",
    "    tape = make_sanitised_tape(lines=lines,headers=headers)\n",
    "    tape.to_csv(os.path.join(output_folder,file_name),index=False)\n",
    "    print(f'{file_name} sanitised version saved.')"
   ]
  },
  {
   "cell_type": "code",
   "execution_count": null,
   "id": "d56a7c62",
   "metadata": {},
   "outputs": [],
   "source": [
    "# For static files"
   ]
  },
  {
   "cell_type": "code",
   "execution_count": null,
   "id": "9e0bab56",
   "metadata": {},
   "outputs": [],
   "source": [
    "path = r\"C:\\Users\\shivampundir\\Downloads\\Peninsula March 23\\May 23 Cutoff\\Historical Data\\Files\\20120731-20230531-STATIC.CSV\"\n",
    "f = open(path,'r')\n",
    "\n",
    "first_line = f.readline()\n",
    "\n",
    "headers = first_line.split(\";\")[:15]\n",
    "\n",
    "lines = f.readlines()\n",
    "\n",
    "values = []\n",
    "for line in lines:\n",
    "    values.append(line.split(';')[:15])"
   ]
  },
  {
   "cell_type": "code",
   "execution_count": null,
   "id": "b6742679",
   "metadata": {},
   "outputs": [],
   "source": [
    "static_data = pd.DataFrame(values,columns=headers)"
   ]
  },
  {
   "cell_type": "code",
   "execution_count": null,
   "id": "439c8e03",
   "metadata": {},
   "outputs": [],
   "source": [
    "static_data['Origination Date'] = pd.to_datetime(static_data['Origination Date'],format='%Y%m%d',errors='coerce')\n",
    "static_data['Maturity Date']    = pd.to_datetime(static_data['Maturity Date'].replace('00000000',np.nan),format='%Y%m%d',errors='coerce')\n",
    "\n",
    "\n",
    "static_data['Purpose'] = static_data['Purpose'].str.strip()\n",
    "\n",
    "static_data['Original LTV'] = handle_numeric(static_data['Original LTV'])\n",
    "\n",
    "static_data['Original Principal Balance'] = handle_numeric(static_data['Original Principal Balance'])\n",
    "\n",
    "cols = ['Loan ID (current loan)',\n",
    " 'Loan ID (historical loan)',\n",
    " 'Purpose',\n",
    " 'Product',\n",
    " 'Currency Denomination',\n",
    " 'Interest Rate Type',\n",
    " 'Amortisation Type',\n",
    " 'Optionality',\n",
    " 'CHF Loan Flag',\n",
    " 'Property Region']\n",
    "# 'Loan status']\n",
    "\n",
    "static_data.loc[:,cols] = static_data.loc[:,cols].astype(str)"
   ]
  },
  {
   "cell_type": "code",
   "execution_count": null,
   "id": "35bb1708",
   "metadata": {},
   "outputs": [],
   "source": [
    "static_data['Loan ID (current loan)'] = handle_str(static_data['Loan ID (current loan)'])\n",
    "static_data['Loan ID (historical loan)'] = handle_str(static_data['Loan ID (historical loan)'])"
   ]
  },
  {
   "cell_type": "code",
   "execution_count": null,
   "id": "c864c3da",
   "metadata": {},
   "outputs": [],
   "source": [
    "additional_data = static_data['Loan ID (current loan)'].str.split('-',expand=True).filter([1,2,3,4])\n",
    "    \n",
    "additional_data.columns = ['PRODUCTID','BRANCHID','BASELOANID','SUBACCOUNT']"
   ]
  },
  {
   "cell_type": "code",
   "execution_count": null,
   "id": "a7a70767",
   "metadata": {},
   "outputs": [],
   "source": [
    "additional_data_old = static_data['Loan ID (historical loan)'].str.split('-',expand=True).filter([1,2,3,4])\n",
    "    \n",
    "additional_data_old.columns = ['PRODUCTID_OLD','BRANCHID_OLD','BASELOANID_OLD','SUBACCOUNT_OLD']"
   ]
  },
  {
   "cell_type": "code",
   "execution_count": null,
   "id": "0e7da5b3",
   "metadata": {},
   "outputs": [],
   "source": [
    "additional_data = additional_data.astype(float)\n",
    "additional_data_old = additional_data_old.astype(float)\n",
    "        \n",
    "static_data = pd.concat([static_data,additional_data,additional_data_old],axis=1)"
   ]
  },
  {
   "cell_type": "code",
   "execution_count": null,
   "id": "16e37e89",
   "metadata": {},
   "outputs": [],
   "source": [
    "static_data.to_excel(r\"\\- Closed Loans Tape.xlsx\")"
   ]
  },
  {
   "cell_type": "code",
   "execution_count": null,
   "id": "0a85eefc",
   "metadata": {},
   "outputs": [],
   "source": [
    "import pandas as pd\n",
    "import pyodbc\n",
    "\n",
    "conn = pyodbc.connect(\n",
    "    driver='{ODBC Driver 17 for SQL Server}',\n",
    "    server='localhost',\n",
    "    database='Peninsula',\n",
    "    trusted_connection='yes'\n",
    ")"
   ]
  },
  {
   "cell_type": "code",
   "execution_count": null,
   "id": "a543d76c",
   "metadata": {},
   "outputs": [],
   "source": [
    "def get_data_for_query():\n",
    "    query = \"select Date,BaseLoanId\t, LoanID, LoanId_Old , INTRATETYPE, TOTALRATE , BASERATE,INTRATEDES,BALANCE,DRAWDOWN,ARREARS,DPD,PRINCIPAL_DUE,INTEREST_DUE,OTHERDUE,PRINCIPAL_RECEIVED,INTEREST_RECEIVED,OTHERDUE_RECEIVED,ONEOFFPAYMENT,WRITEOFF,NPL_FLAG,CLOSURE_TYPE,LOANCLOSEDATE from dynamic where PRODUCTID = 6 and Date > '2023-03-31'\"\n",
    "    df = pd.read_sql(query,conn)\n",
    "    return df\n",
    "\n",
    "def insert_data_for_query():\n",
    "    #TODO\n",
    "    return\n"
   ]
  },
  {
   "cell_type": "code",
   "execution_count": null,
   "id": "acaf718b",
   "metadata": {},
   "outputs": [],
   "source": [
    "df = get_data_for_query()"
   ]
  },
  {
   "cell_type": "code",
   "execution_count": null,
   "id": "f4c2c529",
   "metadata": {},
   "outputs": [],
   "source": []
  }
 ],
 "metadata": {
  "kernelspec": {
   "display_name": "Python 3 (ipykernel)",
   "language": "python",
   "name": "python3"
  },
  "language_info": {
   "codemirror_mode": {
    "name": "ipython",
    "version": 3
   },
   "file_extension": ".py",
   "mimetype": "text/x-python",
   "name": "python",
   "nbconvert_exporter": "python",
   "pygments_lexer": "ipython3",
   "version": "3.9.7"
  }
 },
 "nbformat": 4,
 "nbformat_minor": 5
}
